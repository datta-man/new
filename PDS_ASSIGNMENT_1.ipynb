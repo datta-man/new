{
 "cells": [
  {
   "cell_type": "markdown",
   "id": "e5758cda",
   "metadata": {},
   "source": [
    "### 1.What are the key features of Python?"
   ]
  },
  {
   "cell_type": "code",
   "execution_count": null,
   "id": "49388b5c",
   "metadata": {},
   "outputs": [],
   "source": [
    "1. Simple, easy to learn and use\n",
    "2. Free and open source\n",
    "3. High level programming language\n",
    "4. Interpreted language\n",
    "5. Dynamically typed\n",
    "6. Expressive Language\n",
    "7. Extensive Libraries\n",
    "8. Both procedural and Object oriented \n",
    "9. Cross Platform language\n",
    "10. Embeddable\n",
    "11. Dynamic memory allocation\n",
    "12. Integrated language"
   ]
  },
  {
   "cell_type": "markdown",
   "id": "825828a1",
   "metadata": {},
   "source": [
    "### 2.What are the Data Types in Python?"
   ]
  },
  {
   "cell_type": "code",
   "execution_count": null,
   "id": "7138ba82",
   "metadata": {},
   "outputs": [],
   "source": [
    "Numeric: int, float, complex\n",
    "Text: str\n",
    "Sequence: list, tuple, range, set, frozenset\n",
    "Mapping: dict\n",
    "Set: set, frozenset\n",
    "Boolean: bool (True or False)"
   ]
  },
  {
   "cell_type": "markdown",
   "id": "a4118f62",
   "metadata": {},
   "source": [
    "### 3.What are local variables and global variables in Python? "
   ]
  },
  {
   "cell_type": "code",
   "execution_count": null,
   "id": "5df05341",
   "metadata": {},
   "outputs": [],
   "source": [
    ">>Global variables are those which are not defined inside any function and have a global scope.\n",
    ">>Local variables are those which are defined inside a function and its scope is limited to that function only."
   ]
  },
  {
   "cell_type": "markdown",
   "id": "6f29948f",
   "metadata": {},
   "source": [
    "### 4.How do you write comments in python? And Why Comments are important?"
   ]
  },
  {
   "cell_type": "code",
   "execution_count": null,
   "id": "c3c7b578",
   "metadata": {},
   "outputs": [],
   "source": [
    "There are 2 types to write comments :\n",
    "    1. Using #\n",
    "    2. Using ctrl+/ \n",
    "\n",
    "Comments are important because they help us to understand the code properly.\n",
    "If a new person sees the code and wants to modify it, then the comments put by earlier coder will help him and will reduce \n",
    "the development time."
   ]
  },
  {
   "cell_type": "markdown",
   "id": "e2bcb7e7",
   "metadata": {},
   "source": [
    "### 5.How to comment on multiple lines in python?"
   ]
  },
  {
   "cell_type": "code",
   "execution_count": null,
   "id": "e06030ce",
   "metadata": {},
   "outputs": [],
   "source": [
    "Select all the lines which you want to convert into comment and then press ctrl+/"
   ]
  },
  {
   "cell_type": "markdown",
   "id": "b07daa37",
   "metadata": {},
   "source": [
    "### 6.What do you mean by Python literals?\n"
   ]
  },
  {
   "cell_type": "code",
   "execution_count": null,
   "id": "6cc7cd06",
   "metadata": {},
   "outputs": [],
   "source": [
    "Literals in Python is defined as the raw data assigned to variables or constants while programming. \n",
    "We mainly have five types of literals which includes string literals, numeric literals, boolean literals, \n",
    "literal collections and a special literal None"
   ]
  },
  {
   "cell_type": "markdown",
   "id": "5082b175",
   "metadata": {},
   "source": [
    "### 7.What are different ways to assign value to variables?"
   ]
  },
  {
   "cell_type": "code",
   "execution_count": null,
   "id": "8599fa5f",
   "metadata": {},
   "outputs": [],
   "source": [
    "The equal (=) operator is used to assign value to a variable"
   ]
  },
  {
   "cell_type": "markdown",
   "id": "b9ceb0ab",
   "metadata": {},
   "source": [
    "### 8.What are the Escape Characters in python?"
   ]
  },
  {
   "cell_type": "code",
   "execution_count": null,
   "id": "49f7ab05",
   "metadata": {},
   "outputs": [],
   "source": [
    "An escape character is a backslash \\ followed by the character you want to insert.\n",
    "\\’>> Single quote\n",
    "\\”>> Double quote\n",
    "\\\\>> backslash\n",
    "\\n>> New line\n",
    "\\r>> Carriage Return\n",
    "\\t>> Horizontal tab\n",
    "\\b>> Backspace\n",
    "\\f>> form feed\n",
    "\\v>> vertical tab\n",
    "\\0>> Null character"
   ]
  },
  {
   "cell_type": "markdown",
   "id": "ac179133",
   "metadata": {},
   "source": [
    "### 9.Which are the different ways to perform string formatting? Explain with example."
   ]
  },
  {
   "cell_type": "markdown",
   "id": "c681b7c3",
   "metadata": {},
   "source": [
    "#### 1.f-string :"
   ]
  },
  {
   "cell_type": "code",
   "execution_count": 1,
   "id": "9dff9261",
   "metadata": {},
   "outputs": [
    {
     "name": "stdout",
     "output_type": "stream",
     "text": [
      "Addition of 50 & 70 = 120\n"
     ]
    }
   ],
   "source": [
    "a=50\n",
    "b=70\n",
    "c=a+b\n",
    "print(f'Addition of {a} & {b} = {c}')"
   ]
  },
  {
   "cell_type": "markdown",
   "id": "6e807192",
   "metadata": {},
   "source": [
    "#### 2.Format-string :"
   ]
  },
  {
   "cell_type": "code",
   "execution_count": 2,
   "id": "216b13cc",
   "metadata": {},
   "outputs": [
    {
     "name": "stdout",
     "output_type": "stream",
     "text": [
      "Addition of 50 & 70 = 120\n"
     ]
    }
   ],
   "source": [
    "a=50\n",
    "b=70\n",
    "c=a+b\n",
    "print('Addition of {} & {} = {}'.format(a,b,c))"
   ]
  },
  {
   "cell_type": "markdown",
   "id": "ff194b3b",
   "metadata": {},
   "source": [
    "#### 3.Using % Operator :"
   ]
  },
  {
   "cell_type": "code",
   "execution_count": 4,
   "id": "7c709f19",
   "metadata": {},
   "outputs": [
    {
     "name": "stdout",
     "output_type": "stream",
     "text": [
      "Addition of 50 & 70 = 120\n"
     ]
    }
   ],
   "source": [
    "a=50\n",
    "b=70\n",
    "c=a+b\n",
    "print('Addition of %d & %d = %d'%(a,b,c))"
   ]
  },
  {
   "cell_type": "code",
   "execution_count": null,
   "id": "2c7596c4",
   "metadata": {},
   "outputs": [],
   "source": [
    "In Above % operator,\n",
    "%d : int\n",
    "%s : str\n",
    "%f : float\n",
    ">>>>Floating-point numbers use the format %a.bf. Here, a would be the minimum number of digits to be \n",
    "    present in the string; these might be padded with white space if the whole number doesn’t have \n",
    "    this many digits. Close to this, bf represents how many digits are to be displayed after the \n",
    "    decimal point.example is as below :"
   ]
  },
  {
   "cell_type": "code",
   "execution_count": 6,
   "id": "5e180b6f",
   "metadata": {},
   "outputs": [
    {
     "name": "stdout",
     "output_type": "stream",
     "text": [
      "The value of pi is: 3.142\n"
     ]
    }
   ],
   "source": [
    "print('The value of pi is: %5.3f' %(3.141592))"
   ]
  },
  {
   "cell_type": "markdown",
   "id": "fec84a31",
   "metadata": {},
   "source": [
    "### 10.Write a program to print every character of a string entered by the user in a new line using a loop"
   ]
  },
  {
   "cell_type": "code",
   "execution_count": 1,
   "id": "c604bc93",
   "metadata": {},
   "outputs": [
    {
     "name": "stdout",
     "output_type": "stream",
     "text": [
      "O\n",
      "m\n",
      "k\n",
      "a\n",
      "r\n"
     ]
    }
   ],
   "source": [
    "str1= 'Omkar'\n",
    "for letter in str1:\n",
    "    print(letter)"
   ]
  },
  {
   "cell_type": "markdown",
   "id": "a01ddae1",
   "metadata": {},
   "source": [
    "### 11.Write a program to find the length of the string \"machine learning\" with and without using len function"
   ]
  },
  {
   "cell_type": "code",
   "execution_count": 2,
   "id": "4fe2ca6f",
   "metadata": {},
   "outputs": [
    {
     "data": {
      "text/plain": [
       "16"
      ]
     },
     "execution_count": 2,
     "metadata": {},
     "output_type": "execute_result"
    }
   ],
   "source": [
    "str2='machine learning'\n",
    "len(str2)"
   ]
  },
  {
   "cell_type": "code",
   "execution_count": 8,
   "id": "48f4001f",
   "metadata": {},
   "outputs": [
    {
     "data": {
      "text/plain": [
       "16"
      ]
     },
     "execution_count": 8,
     "metadata": {},
     "output_type": "execute_result"
    }
   ],
   "source": [
    "str2='machine learning'\n",
    "str2.index('g')+1"
   ]
  },
  {
   "cell_type": "code",
   "execution_count": 4,
   "id": "f548511b",
   "metadata": {},
   "outputs": [
    {
     "name": "stdout",
     "output_type": "stream",
     "text": [
      "16\n"
     ]
    }
   ],
   "source": [
    "a='machine learning'\n",
    "b=[]\n",
    "for i in a:\n",
    "    b.append(1)\n",
    "    b.count(1)\n",
    "print(b.count(1))"
   ]
  },
  {
   "cell_type": "code",
   "execution_count": 5,
   "id": "64dd75a7",
   "metadata": {},
   "outputs": [
    {
     "name": "stdout",
     "output_type": "stream",
     "text": [
      "16\n"
     ]
    }
   ],
   "source": [
    "a='machine learning'\n",
    "counter = 0\n",
    "for i in a:\n",
    "    counter+=1\n",
    "print(counter)"
   ]
  },
  {
   "cell_type": "code",
   "execution_count": 6,
   "id": "2899162c",
   "metadata": {},
   "outputs": [
    {
     "name": "stdout",
     "output_type": "stream",
     "text": [
      "16\n"
     ]
    }
   ],
   "source": [
    "def findLen(str):\n",
    "    if not str:\n",
    "        return 0\n",
    "    else:\n",
    "        some_random_str = 'py'\n",
    "        return ((some_random_str).join(str)).count(some_random_str) + 1\n",
    "  \n",
    "str = \"machine learning\"\n",
    "print(findLen(str))"
   ]
  },
  {
   "cell_type": "markdown",
   "id": "55d19835",
   "metadata": {},
   "source": [
    "### 12.Write a program to check if the word 'orange' is present in the \"This is orange juice\""
   ]
  },
  {
   "cell_type": "code",
   "execution_count": 1,
   "id": "afc4b741",
   "metadata": {},
   "outputs": [
    {
     "name": "stdout",
     "output_type": "stream",
     "text": [
      "Given substring is present in main string\n"
     ]
    }
   ],
   "source": [
    "str3='This is orange juice'\n",
    "if 'orange' in str3:\n",
    "    print('Given substring is present in main string')\n",
    "else :\n",
    "    print('Given substring is not present in main string')"
   ]
  },
  {
   "cell_type": "code",
   "execution_count": 7,
   "id": "4db7c021",
   "metadata": {},
   "outputs": [
    {
     "name": "stdout",
     "output_type": "stream",
     "text": [
      "True\n"
     ]
    }
   ],
   "source": [
    "a = \"This is orange juice\"\n",
    "print ('orange' in a.split())"
   ]
  },
  {
   "cell_type": "code",
   "execution_count": 8,
   "id": "b815a660",
   "metadata": {},
   "outputs": [
    {
     "name": "stdout",
     "output_type": "stream",
     "text": [
      "True\n"
     ]
    }
   ],
   "source": [
    "a = \"This is orange juice\"\n",
    "a= a.split()\n",
    "if(a.count('orange') > 0):\n",
    "    print('True')\n",
    "else:\n",
    "    print('False')"
   ]
  },
  {
   "cell_type": "markdown",
   "id": "358c76c4",
   "metadata": {},
   "source": [
    "### 13.Write a program to find the number of vowels, consonants, digits, and white space characters in a string"
   ]
  },
  {
   "cell_type": "code",
   "execution_count": 14,
   "id": "925f51a5",
   "metadata": {},
   "outputs": [
    {
     "name": "stdout",
     "output_type": "stream",
     "text": [
      "Please enter a string : Hello my name is Omkar and I am 26 years old\n",
      "The number of vowels: 11\n",
      "\n",
      "The number of consonant: 21\n",
      "\n",
      "The number of digits: 2\n",
      "\n",
      "The number of white spaces: 10\n"
     ]
    }
   ],
   "source": [
    "str=input(\"Please enter a string : \")\n",
    "vowels=0\n",
    "consonants=0\n",
    "digits=0\n",
    "whiteSpaces=0\n",
    "str.lower()\n",
    "for i in str:\n",
    "    if(i == 'a'or i == 'e'or i == 'i'or i == 'o'or i == 'u' ):\n",
    "           vowels=vowels+1\n",
    "    elif i.isdigit():\n",
    "        digits=digits+1\n",
    "    elif (i==' '):\n",
    "        whiteSpaces=whiteSpaces+1            \n",
    "    else:\n",
    "        consonants=consonants+1\n",
    "print(\"The number of vowels:\",vowels)\n",
    "print(\"\\nThe number of consonant:\",consonants)\n",
    "print(\"\\nThe number of digits:\",digits)\n",
    "print(\"\\nThe number of white spaces:\",whiteSpaces)"
   ]
  },
  {
   "cell_type": "markdown",
   "id": "b73f54fe",
   "metadata": {},
   "source": [
    "### 14.Write a Python program to count Uppercase, Lowercase, special character, and numeric values in a given string."
   ]
  },
  {
   "cell_type": "code",
   "execution_count": 9,
   "id": "cae3218c",
   "metadata": {},
   "outputs": [
    {
     "name": "stdout",
     "output_type": "stream",
     "text": [
      "The number of uppercase charachter  5\n",
      "the numbrer of lowercase character  6\n",
      "the numaric character  5\n",
      "the special character are  0\n"
     ]
    }
   ],
   "source": [
    "str1 = \"Omkar45871JnIIKl\"\n",
    "upper,lower,special,num = 0,0,0,0\n",
    "for i in str1:\n",
    "    if i.isupper() :\n",
    "        upper+=1\n",
    "    elif i.islower():\n",
    "        lower+=1\n",
    "    elif i.isnumeric() :\n",
    "        num+=1\n",
    "    else :\n",
    "        special+=1\n",
    "        \n",
    "print(\"The number of uppercase charachter \",upper)\n",
    "print(\"the numbrer of lowercase character \",lower)\n",
    "print(\"the numaric character \",num)\n",
    "print(\"the special character are \",special)"
   ]
  },
  {
   "cell_type": "markdown",
   "id": "cccfebeb",
   "metadata": {},
   "source": [
    "### 15.Write a program to make a new string with all the consonants deleted from the string \"Hello, have a good day\"."
   ]
  },
  {
   "cell_type": "code",
   "execution_count": 16,
   "id": "68c09a55",
   "metadata": {},
   "outputs": [
    {
     "data": {
      "text/plain": [
       "'Hll, hv  gd dy'"
      ]
     },
     "execution_count": 16,
     "metadata": {},
     "output_type": "execute_result"
    }
   ],
   "source": [
    "str4='Hello, have a good day'\n",
    "str4.replace('a','').replace('e','').replace('i','').replace('o','').replace('u','')"
   ]
  },
  {
   "cell_type": "code",
   "execution_count": 10,
   "id": "263a8a4a",
   "metadata": {},
   "outputs": [
    {
     "name": "stdout",
     "output_type": "stream",
     "text": [
      "eo ae a oo a"
     ]
    }
   ],
   "source": [
    "string1 = \"Hello, have a good day\"\n",
    "d=string1.lower()\n",
    "b=['a','i','o','u','e',' ']\n",
    "for i in d:\n",
    "    if i in b:\n",
    "        print(i, end=\"\") # end='' can be used to have print output in a single line instead of line by line"
   ]
  },
  {
   "cell_type": "code",
   "execution_count": 11,
   "id": "ff5b82fb",
   "metadata": {},
   "outputs": [
    {
     "name": "stdout",
     "output_type": "stream",
     "text": [
      "hjjhahjh\n"
     ]
    }
   ],
   "source": [
    "test_str='hujytjhIYGTUm kgahu jht54479 5'\n",
    "res = []\n",
    "for chr in test_str:\n",
    "    if chr in \"abcdjh\": # we can use directly the character string for puttingt the conditions instead of defining i== ...\n",
    "        res.extend(chr)\n",
    "res = \"\".join(res)\n",
    "print(res)"
   ]
  },
  {
   "cell_type": "code",
   "execution_count": 12,
   "id": "7b129b8e",
   "metadata": {},
   "outputs": [
    {
     "name": "stdout",
     "output_type": "stream",
     "text": [
      "eo ae a oo a\n"
     ]
    }
   ],
   "source": [
    "import re # A regular expression (or RE) specifies a set of strings that matches it; the functions in this module let you check \n",
    "          # if a particular string matches a given regular expression\n",
    "string1 =\"Hello, have a good day\"\n",
    "string2=re.sub('[^aeiouAEIOU ]+','',string1)\n",
    "print(string2)"
   ]
  },
  {
   "cell_type": "markdown",
   "id": "196f606d",
   "metadata": {},
   "source": [
    "### 16.Write a Python program to remove the nth index character from a non-empty string."
   ]
  },
  {
   "cell_type": "code",
   "execution_count": 38,
   "id": "af0b8830",
   "metadata": {},
   "outputs": [
    {
     "name": "stdout",
     "output_type": "stream",
     "text": [
      "Enter the index of the character to remove:3\n",
      "Helo have a good day\n"
     ]
    }
   ],
   "source": [
    "str6='Hello have a good day'\n",
    "n=eval(input('Enter the index of the character to remove:'))\n",
    "x=''\n",
    "for i in range(0,len(str6)):\n",
    "    if (i!=n):\n",
    "        x+= str6[i]\n",
    "print(x)"
   ]
  },
  {
   "cell_type": "code",
   "execution_count": 13,
   "id": "a5ea0a32",
   "metadata": {},
   "outputs": [
    {
     "name": "stdout",
     "output_type": "stream",
     "text": [
      "enter index = 1\n",
      "dt science \n"
     ]
    }
   ],
   "source": [
    "str2= \"data science \"\n",
    "index=int(input(\"enter index = \"))\n",
    "str3=str2.replace(str2[index],\"\")\n",
    "print(str3)"
   ]
  },
  {
   "cell_type": "code",
   "execution_count": 15,
   "id": "fbe7259b",
   "metadata": {},
   "outputs": [
    {
     "name": "stdout",
     "output_type": "stream",
     "text": [
      "Enter index :8\n",
      "Modified string after removing  8 th character \n",
      "Python i easy to learn\n"
     ]
    }
   ],
   "source": [
    "# declaring a string variable\n",
    "str = \"Python is easy to learn\"\n",
    "\n",
    "# index to remove character at\n",
    "n = int(input('Enter index :'))\n",
    "\n",
    "# extracts 0 to n-1th index\n",
    "first_part = str[0:n]\n",
    "\n",
    "# extracts characters from n+1th index until the end\n",
    "second_part = str[n+1:]\n",
    "print(\"Modified string after removing \", n, \"th character \")\n",
    "\n",
    "# combining both the parts together\n",
    "print(first_part+second_part)"
   ]
  },
  {
   "cell_type": "markdown",
   "id": "3ae495ff",
   "metadata": {},
   "source": [
    "### 17.Write a Python program to change a given string to a new string where the first and last characters have been exchanged."
   ]
  },
  {
   "cell_type": "code",
   "execution_count": 16,
   "id": "276cb404",
   "metadata": {},
   "outputs": [
    {
     "name": "stdout",
     "output_type": "stream",
     "text": [
      "P\n",
      "n\n",
      "nrael ot ysae si nohtyn\n"
     ]
    },
    {
     "data": {
      "text/plain": [
       "'nython is easy to learP'"
      ]
     },
     "execution_count": 16,
     "metadata": {},
     "output_type": "execute_result"
    }
   ],
   "source": [
    "str7='Python is easy to learn'\n",
    "first=str7[0]\n",
    "print(first)\n",
    "last=str7[-1]\n",
    "print(last)\n",
    "str8=str7.replace(str7[0],last,1)\n",
    "str9=str8[::-1]\n",
    "print(str9)\n",
    "str10=str9.replace(str8[0],first,1)\n",
    "str10[::-1]"
   ]
  },
  {
   "cell_type": "code",
   "execution_count": 55,
   "id": "4a9c1ebe",
   "metadata": {
    "scrolled": true
   },
   "outputs": [
    {
     "data": {
      "text/plain": [
       "'nython is easy to leaP'"
      ]
     },
     "execution_count": 55,
     "metadata": {},
     "output_type": "execute_result"
    }
   ],
   "source": [
    "str7='Python is easy to learn'\n",
    "first=str7[0]\n",
    "last=str7[-1]\n",
    "last+str7[1:-2]+first"
   ]
  },
  {
   "cell_type": "code",
   "execution_count": 20,
   "id": "58e553e9",
   "metadata": {},
   "outputs": [
    {
     "name": "stdout",
     "output_type": "stream",
     "text": [
      "dbca\n",
      "52341\n"
     ]
    }
   ],
   "source": [
    "def change_string(str1):\n",
    "      return str1[-1:] + str1[1:-1] + str1[:1] \n",
    "print(change_string('abcd'))\n",
    "print(change_string('12345'))"
   ]
  },
  {
   "cell_type": "code",
   "execution_count": 21,
   "id": "713dc2ec",
   "metadata": {},
   "outputs": [
    {
     "name": "stdout",
     "output_type": "stream",
     "text": [
      "nythonp\n"
     ]
    }
   ],
   "source": [
    "str= 'python'\n",
    "a=str[-1:]\n",
    "b=str[1:len(str1)]\n",
    "c=str[:1]\n",
    "d= a+b+c\n",
    "print(d)"
   ]
  },
  {
   "cell_type": "markdown",
   "id": "42b82e57",
   "metadata": {},
   "source": [
    "### 18.Write a Python program to count the occurrences of each word in a given sentence."
   ]
  },
  {
   "cell_type": "code",
   "execution_count": 56,
   "id": "d93828f8",
   "metadata": {},
   "outputs": [
    {
     "data": {
      "text/plain": [
       "2"
      ]
     },
     "execution_count": 56,
     "metadata": {},
     "output_type": "execute_result"
    }
   ],
   "source": [
    "str11='''In short, understanding Python is one of the valuable skills needed for a data science career. \n",
    "        Though it hasn't always been, Python is the programming language of choice for data science.'''\n",
    "str11.lower().count('science')"
   ]
  },
  {
   "cell_type": "code",
   "execution_count": 68,
   "id": "3a5ec3ad",
   "metadata": {},
   "outputs": [
    {
     "name": "stdout",
     "output_type": "stream",
     "text": [
      "Word is: In & it's occurrence is: 1\n",
      "Word is: short, & it's occurrence is: 1\n",
      "Word is: understanding & it's occurrence is: 1\n",
      "Word is: Python & it's occurrence is: 2\n",
      "Word is: is & it's occurrence is: 2\n",
      "Word is: one & it's occurrence is: 1\n",
      "Word is: of & it's occurrence is: 2\n",
      "Word is: the & it's occurrence is: 2\n",
      "Word is: valuable & it's occurrence is: 1\n",
      "Word is: skills & it's occurrence is: 1\n",
      "Word is: needed & it's occurrence is: 1\n",
      "Word is: for & it's occurrence is: 2\n",
      "Word is: a & it's occurrence is: 15\n",
      "Word is: data & it's occurrence is: 2\n",
      "Word is: science & it's occurrence is: 2\n",
      "Word is: career. & it's occurrence is: 1\n",
      "Word is: Though & it's occurrence is: 1\n",
      "Word is: it & it's occurrence is: 1\n",
      "Word is: hasn't & it's occurrence is: 1\n",
      "Word is: always & it's occurrence is: 1\n",
      "Word is: been, & it's occurrence is: 1\n",
      "Word is: Python & it's occurrence is: 2\n",
      "Word is: is & it's occurrence is: 2\n",
      "Word is: the & it's occurrence is: 2\n",
      "Word is: programming & it's occurrence is: 1\n",
      "Word is: language & it's occurrence is: 1\n",
      "Word is: of & it's occurrence is: 2\n",
      "Word is: choice & it's occurrence is: 1\n",
      "Word is: for & it's occurrence is: 2\n",
      "Word is: data & it's occurrence is: 2\n",
      "Word is: science. & it's occurrence is: 1\n"
     ]
    }
   ],
   "source": [
    "str11='''In short, understanding Python is one of the valuable skills needed for a data science career. \n",
    "        Though it hasn't always been, Python is the programming language of choice for data science.'''\n",
    "list1=str11.split()\n",
    "for i in list1:\n",
    "    x=str11.count(i)\n",
    "    print('Word is:',i,'& it\\'s occurrence is:',x)\n"
   ]
  },
  {
   "cell_type": "markdown",
   "id": "235e8d38",
   "metadata": {},
   "source": [
    "### 19.How do you count the occurrence of a given character in a string?"
   ]
  },
  {
   "cell_type": "code",
   "execution_count": 80,
   "id": "16de9244",
   "metadata": {},
   "outputs": [
    {
     "name": "stdout",
     "output_type": "stream",
     "text": [
      "Enter the charater to count :m\n",
      "3\n"
     ]
    }
   ],
   "source": [
    "str12='Hello My name is Omkar'\n",
    "str12= str12.lower()\n",
    "i = input('Enter the charater to count :')\n",
    "print(str12.count(i))"
   ]
  },
  {
   "cell_type": "markdown",
   "id": "9e6e5f25",
   "metadata": {},
   "source": [
    "### 20.Write a program to find last 10 characters of a string?"
   ]
  },
  {
   "cell_type": "code",
   "execution_count": 82,
   "id": "92ed2fc7",
   "metadata": {},
   "outputs": [
    {
     "data": {
      "text/plain": [
       "'e is Omkar'"
      ]
     },
     "execution_count": 82,
     "metadata": {},
     "output_type": "execute_result"
    }
   ],
   "source": [
    "str13='Hello My name is Omkar'\n",
    "str13[-10:]"
   ]
  },
  {
   "cell_type": "markdown",
   "id": "026d864f",
   "metadata": {},
   "source": [
    "### 21.WAP to convert a given string to all uppercase if it contains at least 2 uppercase characters in the first 4 characters"
   ]
  },
  {
   "cell_type": "code",
   "execution_count": 84,
   "id": "7a168860",
   "metadata": {},
   "outputs": [
    {
     "ename": "SyntaxError",
     "evalue": "cannot assign to operator (Temp/ipykernel_15568/588489271.py, line 2)",
     "output_type": "error",
     "traceback": [
      "\u001b[1;36m  File \u001b[1;32m\"C:\\Users\\omkar\\AppData\\Local\\Temp/ipykernel_15568/588489271.py\"\u001b[1;36m, line \u001b[1;32m2\u001b[0m\n\u001b[1;33m    for i>=2 and i<=4 in str14:\u001b[0m\n\u001b[1;37m        ^\u001b[0m\n\u001b[1;31mSyntaxError\u001b[0m\u001b[1;31m:\u001b[0m cannot assign to operator\n"
     ]
    }
   ],
   "source": [
    "str14='HEllo My name is Omkar'\n",
    "for i>=2 and i<=4 in str14:\n",
    "     if str14.count(i)>=2  \n",
    "        str14.upper()\n"
   ]
  }
 ],
 "metadata": {
  "kernelspec": {
   "display_name": "Python 3 (ipykernel)",
   "language": "python",
   "name": "python3"
  },
  "language_info": {
   "codemirror_mode": {
    "name": "ipython",
    "version": 3
   },
   "file_extension": ".py",
   "mimetype": "text/x-python",
   "name": "python",
   "nbconvert_exporter": "python",
   "pygments_lexer": "ipython3",
   "version": "3.9.7"
  }
 },
 "nbformat": 4,
 "nbformat_minor": 5
}
